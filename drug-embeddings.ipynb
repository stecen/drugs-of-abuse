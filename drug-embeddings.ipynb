{
 "cells": [
  {
   "cell_type": "code",
   "execution_count": 2,
   "metadata": {
    "collapsed": true
   },
   "outputs": [],
   "source": [
    "import gensim.downloader as api"
   ]
  },
  {
   "cell_type": "code",
   "execution_count": 2,
   "metadata": {},
   "outputs": [
    {
     "name": "stderr",
     "output_type": "stream",
     "text": [
      "/Users/stevecen/anaconda/lib/python3.6/site-packages/smart_open/smart_open_lib.py:398: UserWarning: This function is deprecated, use smart_open.open instead. See the migration notes for details: https://github.com/RaRe-Technologies/smart_open/blob/master/README.rst#migrating-to-the-new-open-function\n",
      "  'See the migration notes for details: %s' % _MIGRATION_NOTES_URL\n"
     ]
    }
   ],
   "source": [
    "glove_vectors = api.load(\"glove-wiki-gigaword-100\")"
   ]
  },
  {
   "cell_type": "code",
   "execution_count": 5,
   "metadata": {},
   "outputs": [
    {
     "data": {
      "text/plain": [
       "array([ 0.8314   , -0.070599 , -0.33278  , -0.32173  ,  0.57517  ,\n",
       "        0.76541  ,  0.59126  ,  0.29901  ,  0.37406  ,  0.37364  ,\n",
       "       -0.94047  ,  0.088279 , -1.3056   ,  0.32362  , -0.27562  ,\n",
       "        0.0098996,  1.1107   ,  0.37082  , -0.22643  ,  0.11711  ,\n",
       "        0.69445  ,  0.08442  , -0.32702  , -0.11206  , -0.46409  ,\n",
       "        1.1012   ,  1.0183   , -1.6975   , -0.89045  ,  0.7388   ,\n",
       "       -0.23778  ,  0.45128  ,  0.70857  , -0.1891   ,  0.30781  ,\n",
       "        0.40552  , -0.13051  ,  0.069744 ,  0.05915  ,  0.29637  ,\n",
       "       -0.32977  , -0.66633  ,  0.91841  , -0.9437   ,  0.44796  ,\n",
       "       -0.71995  ,  0.2875   , -0.3037   , -0.48672  , -0.31994  ,\n",
       "        0.80568  ,  0.33897  , -0.20359  ,  0.63697  , -0.05155  ,\n",
       "        0.087978 , -0.59976  , -0.33787  ,  1.4926   , -0.1885   ,\n",
       "        0.23764  ,  0.58264  ,  0.60907  ,  0.12838  , -0.083474 ,\n",
       "        0.17958  ,  1.2344   , -0.93587  ,  0.80916  , -0.44954  ,\n",
       "        0.62752  , -0.38823  ,  0.30359  ,  0.73212  , -0.70114  ,\n",
       "        0.16465  , -0.1012   , -0.57981  , -0.68293  ,  0.46589  ,\n",
       "        0.87478  , -0.46931  , -0.71203  ,  0.17138  , -0.77782  ,\n",
       "       -0.61511  ,  1.0187   ,  0.070874 , -1.3041   ,  0.49776  ,\n",
       "       -0.53443  , -0.3388   , -0.66734  , -0.42278  , -0.21843  ,\n",
       "       -0.019773 , -0.12984  , -0.070464 ,  0.82358  , -0.46023  ],\n",
       "      dtype=float32)"
      ]
     },
     "execution_count": 5,
     "metadata": {},
     "output_type": "execute_result"
    }
   ],
   "source": [
    "glove_vectors.get_vector(\"marijuana\")"
   ]
  },
  {
   "cell_type": "code",
   "execution_count": 18,
   "metadata": {},
   "outputs": [
    {
     "data": {
      "text/plain": [
       "(0.079445906, 0.079106696)"
      ]
     },
     "execution_count": 18,
     "metadata": {},
     "output_type": "execute_result"
    }
   ],
   "source": [
    "glove_vectors.n_similarity([\"marijuana\"], [\"lit\"]), glove_vectors.n_similarity([\"cocaine\"], [\"party\"])"
   ]
  },
  {
   "cell_type": "code",
   "execution_count": 20,
   "metadata": {},
   "outputs": [
    {
     "data": {
      "text/plain": [
       "([('cannabis', 0.881885290145874),\n",
       "  ('cocaine', 0.7596597671508789),\n",
       "  ('heroin', 0.7342092990875244),\n",
       "  ('hashish', 0.7207790613174438),\n",
       "  ('drugs', 0.7079291343688965),\n",
       "  ('alcohol', 0.6976802349090576),\n",
       "  ('methamphetamine', 0.6866514086723328),\n",
       "  ('drug', 0.6669683456420898),\n",
       "  ('cigarettes', 0.6572348475456238),\n",
       "  ('ecstasy', 0.6319848299026489)],\n",
       " [('heroin', 0.8946170210838318),\n",
       "  ('marijuana', 0.7596597671508789),\n",
       "  ('methamphetamine', 0.7567210793495178),\n",
       "  ('hashish', 0.755803644657135),\n",
       "  ('drugs', 0.7376880645751953),\n",
       "  ('narcotics', 0.7373349666595459),\n",
       "  ('drug', 0.7308536171913147),\n",
       "  ('trafficking', 0.722845733165741),\n",
       "  ('ecstasy', 0.7054710984230042),\n",
       "  ('smuggling', 0.6787711977958679)])"
      ]
     },
     "execution_count": 20,
     "metadata": {},
     "output_type": "execute_result"
    }
   ],
   "source": [
    "glove_vectors.most_similar('marijuana'), glove_vectors.most_similar('cocaine')"
   ]
  },
  {
   "cell_type": "code",
   "execution_count": 3,
   "metadata": {},
   "outputs": [
    {
     "name": "stdout",
     "output_type": "stream",
     "text": [
      "[=================================================-] 99.3% 104.1/104.8MB downloaded\n"
     ]
    },
    {
     "name": "stderr",
     "output_type": "stream",
     "text": [
      "/Users/stevecen/anaconda/lib/python3.6/site-packages/smart_open/smart_open_lib.py:398: UserWarning: This function is deprecated, use smart_open.open instead. See the migration notes for details: https://github.com/RaRe-Technologies/smart_open/blob/master/README.rst#migrating-to-the-new-open-function\n",
      "  'See the migration notes for details: %s' % _MIGRATION_NOTES_URL\n"
     ]
    }
   ],
   "source": [
    "model_glove_twitter = api.load(\"glove-twitter-25\")"
   ]
  },
  {
   "cell_type": "code",
   "execution_count": 4,
   "metadata": {},
   "outputs": [
    {
     "name": "stderr",
     "output_type": "stream",
     "text": [
      "/Users/stevecen/anaconda/lib/python3.6/site-packages/ipykernel_launcher.py:1: DeprecationWarning: Call to deprecated `wv` (Attribute will be removed in 4.0.0, use self instead).\n",
      "  \"\"\"Entry point for launching an IPython kernel.\n"
     ]
    },
    {
     "data": {
      "text/plain": [
       "[('cannabis', 0.9162882566452026),\n",
       " ('tobacco', 0.9054561257362366),\n",
       " ('drug', 0.8792878985404968),\n",
       " ('plant', 0.8731170296669006),\n",
       " ('obesity', 0.869333028793335),\n",
       " ('drugs', 0.8672326803207397),\n",
       " ('fracking', 0.86279296875),\n",
       " ('illegal', 0.8586475253105164),\n",
       " ('plants', 0.8560640811920166),\n",
       " ('prostitution', 0.8524695634841919)]"
      ]
     },
     "execution_count": 4,
     "metadata": {},
     "output_type": "execute_result"
    }
   ],
   "source": [
    "model_glove_twitter.wv.most_similar(\"marijuana\",topn=10)"
   ]
  },
  {
   "cell_type": "code",
   "execution_count": 6,
   "metadata": {},
   "outputs": [
    {
     "name": "stderr",
     "output_type": "stream",
     "text": [
      "/Users/stevecen/anaconda/lib/python3.6/site-packages/ipykernel_launcher.py:1: DeprecationWarning: Call to deprecated `wv` (Attribute will be removed in 4.0.0, use self instead).\n",
      "  \"\"\"Entry point for launching an IPython kernel.\n"
     ]
    },
    {
     "data": {
      "text/plain": [
       "0.31275687"
      ]
     },
     "execution_count": 6,
     "metadata": {},
     "output_type": "execute_result"
    }
   ],
   "source": [
    "model_glove_twitter.wv.n_similarity([\"marijuana\"], [\"lit\"])"
   ]
  },
  {
   "cell_type": "code",
   "execution_count": 26,
   "metadata": {},
   "outputs": [
    {
     "name": "stderr",
     "output_type": "stream",
     "text": [
      "/Users/stevecen/anaconda/lib/python3.6/site-packages/ipykernel_launcher.py:1: DeprecationWarning: Call to deprecated `wv` (Attribute will be removed in 4.0.0, use self instead).\n",
      "  \"\"\"Entry point for launching an IPython kernel.\n"
     ]
    },
    {
     "data": {
      "text/plain": [
       "0.64277226"
      ]
     },
     "execution_count": 26,
     "metadata": {},
     "output_type": "execute_result"
    }
   ],
   "source": [
    "model_glove_twitter.wv.n_similarity([\"weed\"], [\"party\"])"
   ]
  },
  {
   "cell_type": "code",
   "execution_count": 10,
   "metadata": {},
   "outputs": [
    {
     "name": "stderr",
     "output_type": "stream",
     "text": [
      "/Users/stevecen/anaconda/lib/python3.6/site-packages/ipykernel_launcher.py:1: DeprecationWarning: Call to deprecated `wv` (Attribute will be removed in 4.0.0, use self instead).\n",
      "  \"\"\"Entry point for launching an IPython kernel.\n"
     ]
    },
    {
     "data": {
      "text/plain": [
       "0.24257484"
      ]
     },
     "execution_count": 10,
     "metadata": {},
     "output_type": "execute_result"
    }
   ],
   "source": [
    "model_glove_twitter.wv.n_similarity([\"alc\"], [\"lit\"])"
   ]
  },
  {
   "cell_type": "code",
   "execution_count": 11,
   "metadata": {},
   "outputs": [
    {
     "name": "stderr",
     "output_type": "stream",
     "text": [
      "/Users/stevecen/anaconda/lib/python3.6/site-packages/ipykernel_launcher.py:1: DeprecationWarning: Call to deprecated `wv` (Attribute will be removed in 4.0.0, use self instead).\n",
      "  \"\"\"Entry point for launching an IPython kernel.\n"
     ]
    },
    {
     "data": {
      "text/plain": [
       "0.37412006"
      ]
     },
     "execution_count": 11,
     "metadata": {},
     "output_type": "execute_result"
    }
   ],
   "source": [
    "model_glove_twitter.wv.n_similarity([\"alcohol\"], [\"lit\"])"
   ]
  },
  {
   "cell_type": "code",
   "execution_count": 12,
   "metadata": {},
   "outputs": [
    {
     "name": "stderr",
     "output_type": "stream",
     "text": [
      "/Users/stevecen/anaconda/lib/python3.6/site-packages/ipykernel_launcher.py:1: DeprecationWarning: Call to deprecated `wv` (Attribute will be removed in 4.0.0, use self instead).\n",
      "  \"\"\"Entry point for launching an IPython kernel.\n"
     ]
    },
    {
     "data": {
      "text/plain": [
       "0.5625081"
      ]
     },
     "execution_count": 12,
     "metadata": {},
     "output_type": "execute_result"
    }
   ],
   "source": [
    "model_glove_twitter.wv.n_similarity([\"weed\"], [\"lit\"])"
   ]
  },
  {
   "cell_type": "code",
   "execution_count": 13,
   "metadata": {},
   "outputs": [
    {
     "name": "stderr",
     "output_type": "stream",
     "text": [
      "/Users/stevecen/anaconda/lib/python3.6/site-packages/ipykernel_launcher.py:1: DeprecationWarning: Call to deprecated `wv` (Attribute will be removed in 4.0.0, use self instead).\n",
      "  \"\"\"Entry point for launching an IPython kernel.\n"
     ]
    },
    {
     "data": {
      "text/plain": [
       "0.3553815"
      ]
     },
     "execution_count": 13,
     "metadata": {},
     "output_type": "execute_result"
    }
   ],
   "source": [
    "model_glove_twitter.wv.n_similarity([\"crack\"], [\"lit\"])"
   ]
  },
  {
   "cell_type": "code",
   "execution_count": 31,
   "metadata": {},
   "outputs": [
    {
     "name": "stderr",
     "output_type": "stream",
     "text": [
      "/Users/stevecen/anaconda/lib/python3.6/site-packages/ipykernel_launcher.py:1: DeprecationWarning: Call to deprecated `wv` (Attribute will be removed in 4.0.0, use self instead).\n",
      "  \"\"\"Entry point for launching an IPython kernel.\n"
     ]
    },
    {
     "data": {
      "text/plain": [
       "0.31275687"
      ]
     },
     "execution_count": 31,
     "metadata": {},
     "output_type": "execute_result"
    }
   ],
   "source": [
    "model_glove_twitter.wv.n_similarity([\"marijuana\"], [\"lit\"])"
   ]
  },
  {
   "cell_type": "code",
   "execution_count": 29,
   "metadata": {
    "collapsed": true
   },
   "outputs": [],
   "source": [
    "cmp_words = [\"cool\", \"lit\", \"sell\", \"smoke\", \"grow\", \"legalize\", \"love\"]"
   ]
  },
  {
   "cell_type": "code",
   "execution_count": null,
   "metadata": {
    "collapsed": true
   },
   "outputs": [],
   "source": []
  },
  {
   "cell_type": "code",
   "execution_count": 32,
   "metadata": {},
   "outputs": [
    {
     "name": "stderr",
     "output_type": "stream",
     "text": [
      "/Users/stevecen/anaconda/lib/python3.6/site-packages/ipykernel_launcher.py:1: DeprecationWarning: Call to deprecated `wv` (Attribute will be removed in 4.0.0, use self instead).\n",
      "  \"\"\"Entry point for launching an IPython kernel.\n"
     ]
    },
    {
     "data": {
      "text/plain": [
       "{'cool': 0.37454644,\n",
       " 'grow': 0.6191894,\n",
       " 'lit': 0.31275687,\n",
       " 'sell': 0.64914745,\n",
       " 'smoke': 0.6500305}"
      ]
     },
     "execution_count": 32,
     "metadata": {},
     "output_type": "execute_result"
    }
   ],
   "source": [
    "{word: model_glove_twitter.wv.n_similarity([\"marijuana\"], [word]) for word in cmp_words}"
   ]
  },
  {
   "cell_type": "code",
   "execution_count": 33,
   "metadata": {
    "collapsed": true
   },
   "outputs": [],
   "source": [
    "drugs = [\"marijuana\", \"cocaine\", \"alcohol\"]"
   ]
  },
  {
   "cell_type": "code",
   "execution_count": 34,
   "metadata": {},
   "outputs": [
    {
     "name": "stdout",
     "output_type": "stream",
     "text": [
      "marijuana\n",
      "{'cool': 0.37454644, 'lit': 0.31275687, 'sell': 0.64914745, 'smoke': 0.6500305, 'grow': 0.6191894}\n",
      "cocaine\n",
      "{'cool': 0.4096233, 'lit': 0.27100548, 'sell': 0.6403355, 'smoke': 0.79252136, 'grow': 0.65247047}\n",
      "alcohol\n",
      "{'cool': 0.53852844, 'lit': 0.37412006, 'sell': 0.56893986, 'smoke': 0.68107414, 'grow': 0.64239675}\n"
     ]
    },
    {
     "name": "stderr",
     "output_type": "stream",
     "text": [
      "/Users/stevecen/anaconda/lib/python3.6/site-packages/ipykernel_launcher.py:4: DeprecationWarning: Call to deprecated `wv` (Attribute will be removed in 4.0.0, use self instead).\n",
      "  after removing the cwd from sys.path.\n"
     ]
    }
   ],
   "source": [
    "for drug in drugs:\n",
    "    print(drug)\n",
    "    print({word: model_glove_twitter.wv.n_similarity([drug], [word]) \n",
    "           for word in cmp_words})"
   ]
  },
  {
   "cell_type": "code",
   "execution_count": 35,
   "metadata": {
    "collapsed": true
   },
   "outputs": [],
   "source": [
    "import time"
   ]
  },
  {
   "cell_type": "code",
   "execution_count": 41,
   "metadata": {},
   "outputs": [
    {
     "data": {
      "text/plain": [
       "-6829.365911960602"
      ]
     },
     "execution_count": 41,
     "metadata": {},
     "output_type": "execute_result"
    }
   ],
   "source": [
    "time.time() - 1574277079"
   ]
  },
  {
   "cell_type": "code",
   "execution_count": null,
   "metadata": {
    "collapsed": true
   },
   "outputs": [],
   "source": [
    "time.gmtime(0)"
   ]
  }
 ],
 "metadata": {
  "kernelspec": {
   "display_name": "Python 3",
   "language": "python",
   "name": "python3"
  },
  "language_info": {
   "codemirror_mode": {
    "name": "ipython",
    "version": 3
   },
   "file_extension": ".py",
   "mimetype": "text/x-python",
   "name": "python",
   "nbconvert_exporter": "python",
   "pygments_lexer": "ipython3",
   "version": "3.6.8"
  }
 },
 "nbformat": 4,
 "nbformat_minor": 2
}
