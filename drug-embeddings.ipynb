{
 "cells": [
  {
   "cell_type": "code",
   "execution_count": 1,
   "metadata": {
    "collapsed": true
   },
   "outputs": [],
   "source": [
    "import gensim.downloader as api"
   ]
  },
  {
   "cell_type": "code",
   "execution_count": 2,
   "metadata": {},
   "outputs": [
    {
     "name": "stderr",
     "output_type": "stream",
     "text": [
      "/Users/stevecen/anaconda/lib/python3.6/site-packages/smart_open/smart_open_lib.py:398: UserWarning: This function is deprecated, use smart_open.open instead. See the migration notes for details: https://github.com/RaRe-Technologies/smart_open/blob/master/README.rst#migrating-to-the-new-open-function\n",
      "  'See the migration notes for details: %s' % _MIGRATION_NOTES_URL\n"
     ]
    }
   ],
   "source": [
    "glove_vectors = api.load(\"glove-wiki-gigaword-100\")"
   ]
  },
  {
   "cell_type": "code",
   "execution_count": 5,
   "metadata": {},
   "outputs": [
    {
     "data": {
      "text/plain": [
       "array([ 0.8314   , -0.070599 , -0.33278  , -0.32173  ,  0.57517  ,\n",
       "        0.76541  ,  0.59126  ,  0.29901  ,  0.37406  ,  0.37364  ,\n",
       "       -0.94047  ,  0.088279 , -1.3056   ,  0.32362  , -0.27562  ,\n",
       "        0.0098996,  1.1107   ,  0.37082  , -0.22643  ,  0.11711  ,\n",
       "        0.69445  ,  0.08442  , -0.32702  , -0.11206  , -0.46409  ,\n",
       "        1.1012   ,  1.0183   , -1.6975   , -0.89045  ,  0.7388   ,\n",
       "       -0.23778  ,  0.45128  ,  0.70857  , -0.1891   ,  0.30781  ,\n",
       "        0.40552  , -0.13051  ,  0.069744 ,  0.05915  ,  0.29637  ,\n",
       "       -0.32977  , -0.66633  ,  0.91841  , -0.9437   ,  0.44796  ,\n",
       "       -0.71995  ,  0.2875   , -0.3037   , -0.48672  , -0.31994  ,\n",
       "        0.80568  ,  0.33897  , -0.20359  ,  0.63697  , -0.05155  ,\n",
       "        0.087978 , -0.59976  , -0.33787  ,  1.4926   , -0.1885   ,\n",
       "        0.23764  ,  0.58264  ,  0.60907  ,  0.12838  , -0.083474 ,\n",
       "        0.17958  ,  1.2344   , -0.93587  ,  0.80916  , -0.44954  ,\n",
       "        0.62752  , -0.38823  ,  0.30359  ,  0.73212  , -0.70114  ,\n",
       "        0.16465  , -0.1012   , -0.57981  , -0.68293  ,  0.46589  ,\n",
       "        0.87478  , -0.46931  , -0.71203  ,  0.17138  , -0.77782  ,\n",
       "       -0.61511  ,  1.0187   ,  0.070874 , -1.3041   ,  0.49776  ,\n",
       "       -0.53443  , -0.3388   , -0.66734  , -0.42278  , -0.21843  ,\n",
       "       -0.019773 , -0.12984  , -0.070464 ,  0.82358  , -0.46023  ],\n",
       "      dtype=float32)"
      ]
     },
     "execution_count": 5,
     "metadata": {},
     "output_type": "execute_result"
    }
   ],
   "source": [
    "glove_vectors.get_vector(\"marijuana\")"
   ]
  },
  {
   "cell_type": "code",
   "execution_count": 18,
   "metadata": {},
   "outputs": [
    {
     "data": {
      "text/plain": [
       "(0.079445906, 0.079106696)"
      ]
     },
     "execution_count": 18,
     "metadata": {},
     "output_type": "execute_result"
    }
   ],
   "source": [
    "glove_vectors.n_similarity([\"marijuana\"], [\"lit\"]), glove_vectors.n_similarity([\"cocaine\"], [\"party\"])"
   ]
  },
  {
   "cell_type": "code",
   "execution_count": null,
   "metadata": {
    "collapsed": true
   },
   "outputs": [],
   "source": [
    "glove_vectors.get_vector"
   ]
  }
 ],
 "metadata": {
  "kernelspec": {
   "display_name": "Python 3",
   "language": "python",
   "name": "python3"
  },
  "language_info": {
   "codemirror_mode": {
    "name": "ipython",
    "version": 3
   },
   "file_extension": ".py",
   "mimetype": "text/x-python",
   "name": "python",
   "nbconvert_exporter": "python",
   "pygments_lexer": "ipython3",
   "version": "3.6.8"
  }
 },
 "nbformat": 4,
 "nbformat_minor": 2
}
